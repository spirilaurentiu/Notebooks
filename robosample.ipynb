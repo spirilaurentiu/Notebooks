{
  "nbformat": 4,
  "nbformat_minor": 0,
  "metadata": {
    "colab": {
      "name": "robosample.ipynb",
      "provenance": [],
      "collapsed_sections": []
    },
    "kernelspec": {
      "name": "python3",
      "display_name": "Python 3"
    },
    "language_info": {
      "name": "python"
    }
  },
  "cells": [
    {
      "cell_type": "markdown",
      "source": [
        "#Molecular Simulation Using **Robosample**\n",
        "\n",
        "In this lab we will simulate SARS-COV-2 Mpro protease with Robosample using its Python interface. Then, we will run a short rigid body dynamics HMC simulation."
      ],
      "metadata": {
        "id": "-0nrpm-X7h8m"
      }
    },
    {
      "cell_type": "markdown",
      "source": [
        "<h1>Theoretical Aspects</h1>\n",
        "\n",
        "Molecules conformations lie in complex highly dimensional spaces, and present a challange for molecular simulations that try to explore them. Take, for example, ethane: although it is a simple molecule, it already has $8 \\times 3 = 24$ dimensions. To simplify this endevour some types of degrees of freedom may be constrained: such as bond lengths. This will increase the integration time step and reduce the number equations solved at each step.\n",
        "\n",
        "\n",
        "\n"
      ],
      "metadata": {
        "id": "Z3V5Hz_NAI0v"
      }
    },
    {
      "cell_type": "markdown",
      "source": [
        "<figure>\n",
        "<center>\n",
        "<img src='https://github.com/spirilaurentiu/Notebooks/blob/main/ethane.s.png?raw=true' />\n",
        "<figcaption>FIGURE 1. Ethane Molecule </figcaption>\n",
        "</center>\n",
        "</figure>"
      ],
      "metadata": {
        "id": "jvMhrkXrqzjV"
      }
    },
    {
      "cell_type": "markdown",
      "source": [
        "\n",
        "\n",
        "In the case of biological macromolecules, their particular chemistry may induce certain patterns that can be speculated for the use of constraints. For example, proteins have secondary structures elements such as helices, that can be treated as rigid bodies during some parts of the simulation. \n",
        "\n",
        "\n"
      ],
      "metadata": {
        "id": "mQBEpuWEtOxe"
      }
    },
    {
      "cell_type": "markdown",
      "source": [
        "<figure>\n",
        "<center>\n",
        "<img src='https://github.com/spirilaurentiu/Notebooks/blob/main/protein.s.png?raw=true' />\n",
        "<figcaption>FIGURE 2. Proteins secondary structures </figcaption>\n",
        "</center>\n",
        "</figure>"
      ],
      "metadata": {
        "id": "7bda00V5w31t"
      }
    },
    {
      "cell_type": "markdown",
      "source": [
        "Using constraints, by definition, do not take into account all the degrees of freedom therefore suffers from a lack of ergodicity. Also, particular degrees of freedom may be coupled when transitioning from a conformational basin to another. We overcome this in Robosample through the means of \"overlaped blocked Gibbs sampling\" described below.\n",
        "\n",
        "Gibbs sampling is a Markov Chain Monte Carlo algorithm which samples from a multivariate distribution $\\pi(X = \\{x_i\\})$ by taking turns in sampling each of its component $x_i$, conditioned on the previous sampled components $\\pi(x_i | \\{x_{0,i-1}\\})$.\n",
        "\n",
        "In a similar fashion, the algorithm allows sampling jointly multiple components $x_{i, i+k}$ in what is called \"blocked Gibbs sampling\". Even more so, the components may overlap to form \"overlapped blocked Gibbs sampling\".\n",
        "\n",
        "We will use this particular type of Gibbs sampling in Robosample by alternating multiple definitions of rigid bodies.\n",
        " Robosample is a molecular simulation program that uses algorithms designed primarly for robot mechanics. \n",
        "\n",
        "\n"
      ],
      "metadata": {
        "id": "XD0s-RpywaLE"
      }
    },
    {
      "cell_type": "markdown",
      "source": [
        "# Part 0 - Download and Install Robosample\n",
        "\n",
        "---\n",
        "\n"
      ],
      "metadata": {
        "id": "QOqN_wXKsgAU"
      }
    },
    {
      "cell_type": "markdown",
      "source": [
        "Robosample binaries are already build on Google colab and uploaded on Github. Clone the Github repository that contains Robosample binaries."
      ],
      "metadata": {
        "id": "QYAXwgWFOlLX"
      }
    },
    {
      "cell_type": "code",
      "source": [
        "%cd /content/\n",
        "! if [ -d Notebooks ]; then echo \"Notebooks exists\"; else git clone --recursive https://github.com/spirilaurentiu/Notebooks.git; fi\n",
        "!ls Notebooks\n",
        "%cd Notebooks/\n",
        "!git pull"
      ],
      "metadata": {
        "colab": {
          "base_uri": "https://localhost:8080/"
        },
        "id": "b1hA3b-ZFo9g",
        "outputId": "e304d27d-76d5-4e50-f676-8dc7637e9343"
      },
      "execution_count": 14,
      "outputs": [
        {
          "output_type": "stream",
          "name": "stdout",
          "text": [
            "/content\n",
            "Notebooks exists\n",
            "ala10\t      inp.test\t     README.md\t       simulate.py  tools\n",
            "build\t      mproc\t     robosample.ipynb  temp\n",
            "ethane.s.png  protein.s.png  robots\t       test.ipynb\n",
            "/content/Notebooks\n",
            "Already up to date.\n"
          ]
        }
      ]
    },
    {
      "cell_type": "markdown",
      "source": [
        " Now we have to make sure that Robosample binary finds its libraries. Set the linker path.\n",
        " Robosample relies heavly on GPUs. Set cuda directories."
      ],
      "metadata": {
        "id": "b-q8JthPOZqR"
      }
    },
    {
      "cell_type": "code",
      "source": [
        "!if echo $LD_LIBRARY_PATH | grep Notebook; then echo \"LD_LIBRARY_PATH set\";else echo \"Run one of the below commands\"; fi\n",
        "%env LD_LIBRARY_PATH=/usr/local/nvidia/lib:/usr/local/nvidia/lib64:/content/Notebooks/build/release/robosample/src\n",
        "!echo \"$LD_LIBRARY_PATH\"\n",
        "\n",
        "!if echo $CUDA_ROOT | grep usr; then echo \"CUDA directories set\"; else echo \"Run one of the below commands\"; fi\n",
        "%env CUDA_INC_DIR=/usr/local/cuda\n",
        "%env CUDA_ROOT=/usr/local/cuda\n"
      ],
      "metadata": {
        "colab": {
          "base_uri": "https://localhost:8080/"
        },
        "id": "JpvnMQcwsjBR",
        "outputId": "aca8d253-cd4c-4bad-9718-015343606b2b"
      },
      "execution_count": 3,
      "outputs": [
        {
          "output_type": "stream",
          "name": "stdout",
          "text": [
            "/usr/local/nvidia/lib:/usr/local/nvidia/lib64:/content/Notebooks/build/release/robosample/src\n",
            "LD_LIBRARY_PATH set\n",
            "env: LD_LIBRARY_PATH=/usr/local/nvidia/lib:/usr/local/nvidia/lib64:/content/Notebooks/build/release/robosample/src\n",
            "/usr/local/nvidia/lib:/usr/local/nvidia/lib64:/content/Notebooks/build/release/robosample/src\n",
            "/usr/local/cuda\n",
            "CUDA directories set\n",
            "env: CUDA_INC_DIR=/usr/local/cuda\n",
            "env: CUDA_ROOT=/usr/local/cuda\n"
          ]
        }
      ]
    },
    {
      "cell_type": "markdown",
      "source": [
        "If everything went okay so far, Robosample should run on a test small molecule."
      ],
      "metadata": {
        "id": "uOLq1nMIOxaS"
      }
    },
    {
      "cell_type": "code",
      "source": [
        "%cd build/release/robosample/src/\n",
        "!./GMOLMODEL_robo inp.2but"
      ],
      "metadata": {
        "colab": {
          "base_uri": "https://localhost:8080/"
        },
        "id": "7a_WzHt1lUz-",
        "outputId": "c55e2696-8b38-4be6-fb65-e22358806773"
      },
      "execution_count": 4,
      "outputs": [
        {
          "output_type": "stream",
          "name": "stdout",
          "text": [
            "/content/Notebooks/build/release/robosample/src\n",
            "Reading input...\n",
            "Dumping input file:\n",
            "  BOOST_MDSTEPS : 1 \n",
            "  BOOST_TEMPERATURE : 600 \n",
            "  DIHEDRAL : 0 1 2 3 \n",
            "  DISTANCE : 0 1 \n",
            "  FFSCALE : AMBER \n",
            "  FIXMAN_POTENTIAL : TRUE \n",
            "  FIXMAN_TORQUE : TRUE \n",
            "  FLEXFILE : ligand.td.flex \n",
            "  GBSA : 1.0 \n",
            "  GEOMETRY : FALSE \n",
            "  INPCRD : ligand.inpcrd \n",
            "  MDSTEPS : 10 \n",
            "  MOLECULES : 2but \n",
            "  NMA_OPTION : 0 \n",
            "  NONBONDED_CUTOFF : 2 \n",
            "  NONBONDED_METHOD : 1 \n",
            "  OPENMM : TRUE \n",
            "  OPENMM_CalcOnlyNonbonded : TRUE \n",
            "  OUTPUT_DIR : temp \n",
            "  PRINT_FREQ : 1 \n",
            "  PRMTOP : ligand.prmtop \n",
            "  RANDOM_WORLD_ORDER : FALSE \n",
            "  RBFILE : ligand.rb \n",
            "  REPRODUCIBLE : FALSE \n",
            "  ROOTS : 0 \n",
            "  ROOT_MOBILITY : Free \n",
            "  ROUNDS : 10 \n",
            "  ROUNDS_TILL_REBLOCK : 10 \n",
            "  RUN_TYPE : Normal \n",
            "  SAMPLER : VV \n",
            "  SAMPLES_PER_ROUND : 1 \n",
            "  SEED : 42 \n",
            "  TEMPERATURE_FIN : 300 \n",
            "  TEMPERATURE_INI : 300 \n",
            "  THERMOSTAT : Andersen \n",
            "  THREADS : 0 \n",
            "  TIMESTEPS : 0.003 \n",
            "  VISUAL : FALSE \n",
            "  WORLDS : R1 \n",
            "  WRITEPDBS : 0 \n",
            "Done.\n",
            "Molecule directory: 2but\n",
            "tcmalloc: large alloc 1073741824 bytes == 0x5562eed4c000 @  0x7f9b8d254887 0x5562ece8e7bc 0x5562ece3f72f 0x7f9b8ce4fc87 0x5562ece414ba\n",
            "CUDA_ROOT set to /usr/local/cuda\n",
            "Requested 1 molecules\n",
            "Added 1 empty worlds\n",
            "Robosample requested 0 threads \n",
            "World 0 requested 0 and got 0\n",
            "Gmolmodel Topology match done\n",
            "Added 1 molecules\n",
            " Context::AddMolecule for world 0 \n",
            " Context::AddMolecule molIx 0 \n",
            " Context::AddMolecule topFNs[molIx] 2but/ligand.prmtop 2but/ligand.inpcrd 2but/ligand.rb\n",
            "Context setting flexibility for mol 0 world 0 regimenFN R1 flexSpecsFNs 2but/ligand.td.flex\n",
            "modelOneCompound\n",
            "Step 1 create atomBonds\n",
            " AtomIndex dummAtomIndex 0 0\n",
            " AtomIndex dummAtomIndex 1 1\n",
            " AtomIndex dummAtomIndex 2 2\n",
            " AtomIndex dummAtomIndex 3 3\n",
            " AtomIndex dummAtomIndex 4 4\n",
            " AtomIndex dummAtomIndex 5 5\n",
            " AtomIndex dummAtomIndex 6 6\n",
            " AtomIndex dummAtomIndex 7 7\n",
            " AtomIndex dummAtomIndex 8 8\n",
            " AtomIndex dummAtomIndex 9 9\n",
            " AtomIndex dummAtomIndex 10 10\n",
            " AtomIndex dummAtomIndex 11 11\n",
            " AtomIndex dummAtomIndex 12 12\n",
            " AtomIndex dummAtomIndex 13 13\n",
            " AtomIndex dummAtomIndex 14 14\n",
            "Step 2 analyze bonding structure\n",
            "Step 3 distribute atoms\n",
            "Step 4 assign rigid body parents\n",
            "CompoundSystem: BondIndex 0\n",
            "CompoundSystem: BondIndex 1\n",
            "CompoundSystem: BondIndex 2\n",
            "CompoundSystem: BondIndex 3\n",
            "CompoundSystem: BondIndex 4\n",
            "CompoundSystem: BondIndex 5\n",
            "CompoundSystem: BondIndex 6\n",
            "CompoundSystem: BondIndex 7\n",
            "CompoundSystem: BondIndex 8\n",
            "CompoundSystem: BondIndex 9\n",
            "CompoundSystem: BondIndex 10\n",
            "CompoundSystem: BondIndex 11\n",
            "CompoundSystem: BondIndex 12\n",
            "CompoundSystem: BondIndex 13\n",
            "Cluster number 1\tparent = -1111111111\t# atoms = 2(AAAA, AAAO)\n",
            "Cluster number 2\tparent = 1\t# atoms = 2(AAAB, AAAF)\n",
            "Cluster number 3\tparent = 2\t# atoms = 3(AAAC, AAAG, AAAH)\n",
            "Cluster number 4\tparent = 3\t# atoms = 4(AAAE, AAAL, AAAM, AAAN)\n",
            "Cluster number 5\tparent = 2\t# atoms = 4(AAAD, AAAI, AAAJ, AAAK)\n",
            "Step 5 set ground frames\n",
            "CompoundSystem: Step 5: Found RigidUnit lacking parent: clusterIx = 1 ; mobodIx = -1111111111\n",
            "Step 6 set child frames\n",
            "CompoundSystem: Step 6: Set child frames for : clusterIx = 2 ; mobodIx = -1111111111\n",
            "CompoundSystem: Step 6: Set child frames for : clusterIx = 3 ; mobodIx = -1111111111\n",
            "CompoundSystem: Step 6: Set child frames for : clusterIx = 4 ; mobodIx = -1111111111\n",
            "CompoundSystem: Step 6: Set child frames for : clusterIx = 5 ; mobodIx = -1111111111\n",
            "Step 7 populate dumm clusters\n",
            " atomIx 0 B_X_atom.p() ~[0,0,0]\n",
            " atomIx 1 B_X_atom.p() ~[-0.0293491,0.0926728,0]\n",
            "CompoundSystem: Step 7: Populate DuMM clusters : clusterIx = 1 ; mobodIx = -1111111111\n",
            " atomIx 2 B_X_atom.p() ~[0,0,0]\n",
            " atomIx 3 B_X_atom.p() ~[-0.0337439,0.104317,4.81799e-18]\n",
            "CompoundSystem: Step 7: Populate DuMM clusters : clusterIx = 2 ; mobodIx = -1111111111\n",
            " atomIx 4 B_X_atom.p() ~[0,0,0]\n",
            " atomIx 5 B_X_atom.p() ~[-0.0372128,0.103065,2.71051e-18]\n",
            " atomIx 6 B_X_atom.p() ~[-0.0371401,-0.0485477,-0.0910232]\n",
            "CompoundSystem: Step 7: Populate DuMM clusters : clusterIx = 3 ; mobodIx = -1111111111\n",
            " atomIx 7 B_X_atom.p() ~[0,0,0]\n",
            " atomIx 8 B_X_atom.p() ~[-0.0392121,0.102149,0]\n",
            " atomIx 9 B_X_atom.p() ~[-0.0401028,-0.0523572,0.0873619]\n",
            " atomIx 10 B_X_atom.p() ~[-0.0375753,-0.0506823,-0.0893896]\n",
            "CompoundSystem: Step 7: Populate DuMM clusters : clusterIx = 4 ; mobodIx = -1111111111\n",
            " atomIx 11 B_X_atom.p() ~[0,0,0]\n",
            " atomIx 12 B_X_atom.p() ~[-0.0392016,0.102307,2.77556e-17]\n",
            " atomIx 13 B_X_atom.p() ~[-0.039888,-0.05303,-0.0869823]\n",
            " atomIx 14 B_X_atom.p() ~[-0.0382904,-0.0481207,0.0906496]\n",
            "CompoundSystem: Step 7: Populate DuMM clusters : clusterIx = 5 ; mobodIx = -1111111111\n",
            "Step 8 create mobilized bodies\n",
            "CompoundSystem: Step 8: Case A : clusterIx = 1 ; mobodIx = -1111111111\n",
            "unit.clusterAtoms.size() > 2 0\n",
            "unit.hasChild 1\n",
            " got obligated Free mobodIx 1\n",
            "CompoundSystem: Step 8: Case B : clusterIx = 2 ; mobodIx = -1111111111\n",
            " unit.parentId.isValid 1\n",
            " got Pin mobodIx 2\n",
            "CompoundSystem: Step 8: Case B : clusterIx = 3 ; mobodIx = -1111111111\n",
            " unit.parentId.isValid 1\n",
            " got Pin mobodIx 3\n",
            "CompoundSystem: Step 8: Case B : clusterIx = 4 ; mobodIx = -1111111111\n",
            " unit.parentId.isValid 1\n",
            " got Pin mobodIx 4\n",
            "CompoundSystem: Step 8: Case B : clusterIx = 5 ; mobodIx = -1111111111\n",
            " unit.parentId.isValid 1\n",
            " got Pin mobodIx 5\n",
            "Step 9 create decorations\n",
            "Finished modelOneCompound\n",
            "LOAD ATTEMPT: '/home/pcuser/git4/Robosample/build/release/Molmodel/libOpenMMPlugin.so' ... FAILED!\n",
            "LOAD ATTEMPT: '/usr/local/SimTK/lib/plugins/libOpenMMPlugin.so' ... FAILED!\n",
            "LOAD ATTEMPT: '/usr/local/lib/plugins/libOpenMMPlugin.so' ... FAILED!\n",
            "LOAD ATTEMPT: '/content/Notebooks/build/release/robosample/src/libOpenMMPlugin.so' ... SUCCEEDED.\n",
            "NOTE: DuMM: successfully loaded OpenMM plugin\n",
            "NOTE: DuMM: successfully obtained OpenMM interface from plugin.\n",
            "NOTE: DuMM: OpenMM plugin was built with Molmodel version 3.0.0\n",
            "NOTE: Loaded 0 OpenMM plugins:\n",
            "NOTE: OpenMM has 1 Platforms registered:  Reference\n",
            "WARNING: DuMM: OpenMM not used: best available platform was Reference with relative speed=1.\n",
            "Call setAllowOpenMMReference() if you want to use this anyway.\n",
            "\n",
            "WARNING: DuMM: failed to initialize OpenMM\n",
            "UNLOADING '/content/Notebooks/build/release/robosample/src/libOpenMMPlugin.so'.\n",
            "NOTE: DuMM: using multithreading code with 2 threads.\n",
            "Adding andersen thermostat.\n",
            " Context::setTemperature for world 0 300\n",
            "HMC: boost MD steps: 1\n",
            "Hamiltonian Monte Carlo sampler: using Fixman potential.\n",
            "Topology pitch -0.354703\n",
            "World::setUScaleFactorsToMobods aIx1 aIx2 mbx1 mbx2 0 1 1 1\n",
            "World::setUScaleFactorsToMobods Warning: Trying to scale a bond inside a rigid body\n",
            "World::setUScaleFactorsToMobods aIx1 aIx2 mbx1 mbx2 2 3 2 2\n",
            "World::setUScaleFactorsToMobods Warning: Trying to scale a bond inside a rigid body\n",
            "World::setUScaleFactorsToMobods aIx1 aIx2 mbx1 mbx2 4 5 3 3\n",
            "World::setUScaleFactorsToMobods Warning: Trying to scale a bond inside a rigid body\n",
            "World::setUScaleFactorsToMobods aIx1 aIx2 mbx1 mbx2 4 6 3 3\n",
            "World::setUScaleFactorsToMobods Warning: Trying to scale a bond inside a rigid body\n",
            "World::setUScaleFactorsToMobods aIx1 aIx2 mbx1 mbx2 11 12 5 5\n",
            "World::setUScaleFactorsToMobods Warning: Trying to scale a bond inside a rigid body\n",
            "World::setUScaleFactorsToMobods aIx1 aIx2 mbx1 mbx2 11 13 5 5\n",
            "World::setUScaleFactorsToMobods Warning: Trying to scale a bond inside a rigid body\n",
            "World::setUScaleFactorsToMobods aIx1 aIx2 mbx1 mbx2 11 14 5 5\n",
            "World::setUScaleFactorsToMobods Warning: Trying to scale a bond inside a rigid body\n",
            "World::setUScaleFactorsToMobods aIx1 aIx2 mbx1 mbx2 7 8 4 4\n",
            "World::setUScaleFactorsToMobods Warning: Trying to scale a bond inside a rigid body\n",
            "World::setUScaleFactorsToMobods aIx1 aIx2 mbx1 mbx2 7 9 4 4\n",
            "World::setUScaleFactorsToMobods Warning: Trying to scale a bond inside a rigid body\n",
            "World::setUScaleFactorsToMobods aIx1 aIx2 mbx1 mbx2 7 10 4 4\n",
            "World::setUScaleFactorsToMobods Warning: Trying to scale a bond inside a rigid body\n",
            "World::setUScaleFactorsToMobods aIx1 aIx2 mbx1 mbx2 0 2 1 2\n",
            "World::setUScaleFactorsToMobods aIx1 aIx2 mbx1 mbx2 2 4 2 3\n",
            "World::setUScaleFactorsToMobods aIx1 aIx2 mbx1 mbx2 2 11 2 5\n",
            "World::setUScaleFactorsToMobods aIx1 aIx2 mbx1 mbx2 4 7 3 4\n",
            "DEBUG getAtomLocationInMobilizedBodyFrame aIx 0 through DuMM ~[0,0,0]\n",
            "DEBUG getAtomLocationInMobilizedBodyFrame aIx 1 through DuMM ~[-0.0293491,0.0926728,0]\n",
            "DEBUG getAtomLocationInMobilizedBodyFrame aIx 2 through DuMM ~[0,0,0]\n",
            "DEBUG getAtomLocationInMobilizedBodyFrame aIx 3 through DuMM ~[-0.0337439,0.104317,4.81799e-18]\n",
            "DEBUG getAtomLocationInMobilizedBodyFrame aIx 4 through DuMM ~[0,0,0]\n",
            "DEBUG getAtomLocationInMobilizedBodyFrame aIx 5 through DuMM ~[-0.0372128,0.103065,2.71051e-18]\n",
            "DEBUG getAtomLocationInMobilizedBodyFrame aIx 6 through DuMM ~[-0.0371401,-0.0485477,-0.0910232]\n",
            "DEBUG getAtomLocationInMobilizedBodyFrame aIx 7 through DuMM ~[0,0,0]\n",
            "DEBUG getAtomLocationInMobilizedBodyFrame aIx 8 through DuMM ~[-0.0392121,0.102149,0]\n",
            "DEBUG getAtomLocationInMobilizedBodyFrame aIx 9 through DuMM ~[-0.0401028,-0.0523572,0.0873619]\n",
            "DEBUG getAtomLocationInMobilizedBodyFrame aIx 10 through DuMM ~[-0.0375753,-0.0506823,-0.0893896]\n",
            "DEBUG getAtomLocationInMobilizedBodyFrame aIx 11 through DuMM ~[0,0,0]\n",
            "DEBUG getAtomLocationInMobilizedBodyFrame aIx 12 through DuMM ~[-0.0392016,0.102307,2.77556e-17]\n",
            "DEBUG getAtomLocationInMobilizedBodyFrame aIx 13 through DuMM ~[-0.039888,-0.05303,-0.0869823]\n",
            "DEBUG getAtomLocationInMobilizedBodyFrame aIx 14 through DuMM ~[-0.0382904,-0.0481207,0.0906496]\n",
            "Loading mbx2mobility\n",
            "DEBUG Entering Sampler::loadMbx2mobility\n",
            "mbx= 2 parentMbx= 1 aIx= 2 chemParentAIx= 0 mobility 2\n",
            "mbx= 3 parentMbx= 2 aIx= 4 chemParentAIx= 2 mobility 2\n",
            "mbx= 4 parentMbx= 3 aIx= 7 chemParentAIx= 4 mobility 2\n",
            "mbx= 5 parentMbx= 2 aIx= 11 chemParentAIx= 2 mobility 2\n",
            "World 0, NU 10:\n",
            "Topology pitch -0.354703\n",
            "Warning: U scale factor for mobod 1 not found.\n",
            "Topology pitch -0.4915285228\n",
            "Topology pitch -0.4915285228\n",
            "Keval terms end bXMX muMmu bmuMX LSE(bmuMX) = 20.6921088555 7.0523448533 17.5909590132\n",
            "ke_n_nma6 3.1011498424\n",
            "\tpe_o -32.77365, pe_n -30.20972, pe_nB -30.20972\n",
            "\tke_prop 15.83137, ke_n 20.69211\n",
            "\tfix_o 102.50821, fix_n 102.55089\n",
            "\tlogSineSqrGamma2_o -2.11507, logSineSqrGamma2_n -1.50166\n",
            "\tts 0.00300\n",
            "\t, etot_n 94.90611, etot_proposed 88.20378\n",
            "\tsample accepted (simple molecular dynamics)\n",
            "\tMSD= 0.0136808992, RRdot= -0.0795477074\n",
            "World 0, NU 10:\n",
            "Topology pitch -0.4915285228\n",
            "Warning: U scale factor for mobod 1 not found.\n",
            "Topology pitch -0.4427641617\n",
            "Topology pitch -0.4427641617\n",
            "Keval terms end bXMX muMmu bmuMX LSE(bmuMX) = 5.7875592460 11.1293734334 27.7604591375\n",
            "ke_n_nma6 -21.9728998915\n",
            "\tpe_o -30.20972, pe_n -28.76071, pe_nB -28.76071\n",
            "\tke_prop 7.40256, ke_n 5.78756\n",
            "\tfix_o 102.55089, fix_n 102.54557\n",
            "\tlogSineSqrGamma2_o -1.50166, logSineSqrGamma2_n -1.69522\n",
            "\tts 0.00300\n",
            "\t, etot_n 81.68665, etot_proposed 81.61656\n",
            "\tsample accepted (simple molecular dynamics)\n",
            "\tMSD= 0.0363180102, RRdot= -0.0583391709\n",
            "World 0, NU 10:\n",
            "Topology pitch -0.4427641617\n",
            "Warning: U scale factor for mobod 1 not found.\n",
            "Topology pitch -0.5581987258\n",
            "Topology pitch -0.5581987258\n",
            "Keval terms end bXMX muMmu bmuMX LSE(bmuMX) = 16.6776857063 -3.2896315147 8.2089266547\n",
            "ke_n_nma6 8.4687590516\n",
            "\tpe_o -28.76071, pe_n -17.49156, pe_nB -17.49156\n",
            "\tke_prop 23.18568, ke_n 16.67769\n",
            "\tfix_o 102.54557, fix_n 102.66990\n",
            "\tlogSineSqrGamma2_o -1.69522, logSineSqrGamma2_n -1.27104\n",
            "\tts 0.00300\n",
            "\t, etot_n 103.44124, etot_proposed 99.08477\n",
            "\tsample accepted (simple molecular dynamics)\n",
            "\tMSD= 0.0591545904, RRdot= 0.0523264198\n",
            "World 0, NU 10:\n",
            "Topology pitch -0.5581987258\n",
            "Warning: U scale factor for mobod 1 not found.\n",
            "Topology pitch -0.3811025763\n",
            "Topology pitch -0.3811025763\n",
            "Keval terms end bXMX muMmu bmuMX LSE(bmuMX) = 21.4028143548 -2.1007392170 5.2770331926\n",
            "ke_n_nma6 16.1257811622\n",
            "\tpe_o -17.49156, pe_n -15.82283, pe_nB -15.82283\n",
            "\tke_prop 24.37513, ke_n 21.40281\n",
            "\tfix_o 102.66990, fix_n 102.68599\n",
            "\tlogSineSqrGamma2_o -1.27104, logSineSqrGamma2_n -1.97802\n",
            "\tts 0.00300\n",
            "\t, etot_n 110.73290, etot_proposed 111.13868\n",
            "\tsample accepted (simple molecular dynamics)\n",
            "\tMSD= 0.0261760691, RRdot= 0.1232293111\n",
            "World 0, NU 10:\n",
            "Topology pitch -0.3811025763\n",
            "Warning: U scale factor for mobod 1 not found.\n",
            "Topology pitch -0.4059290894\n",
            "Topology pitch -0.4059290894\n",
            "Keval terms end bXMX muMmu bmuMX LSE(bmuMX) = 24.2310277744 16.2893543283 40.6312141383\n",
            "ke_n_nma6 -16.4001863639\n",
            "\tpe_o -15.82283, pe_n -19.13077, pe_nB -19.13077\n",
            "\tke_prop 21.30463, ke_n 24.23103\n",
            "\tfix_o 102.68599, fix_n 102.73980\n",
            "\tlogSineSqrGamma2_o -1.97802, logSineSqrGamma2_n -1.85838\n",
            "\tts 0.00300\n",
            "\t, etot_n 110.15778, etot_proposed 110.63472\n",
            "\tsample accepted (simple molecular dynamics)\n",
            "\tMSD= 0.0154859848, RRdot= -0.0219754856\n",
            "World 0, NU 10:\n",
            "Topology pitch -0.4059290894\n",
            "Warning: U scale factor for mobod 1 not found.\n",
            "Topology pitch -0.4455290511\n",
            "Topology pitch -0.4455290511\n",
            "Keval terms end bXMX muMmu bmuMX LSE(bmuMX) = 11.2908224868 1.5787517552 4.0418409122\n",
            "ke_n_nma6 7.2489815746\n",
            "\tpe_o -19.13077, pe_n -21.08857, pe_nB -21.08857\n",
            "\tke_prop 10.30408, ke_n 11.29082\n",
            "\tfix_o 102.73980, fix_n 102.69979\n",
            "\tlogSineSqrGamma2_o -1.85838, logSineSqrGamma2_n -1.68359\n",
            "\tts 0.00300\n",
            "\t, etot_n 95.00178, etot_proposed 96.23083\n",
            "\tsample accepted (simple molecular dynamics)\n",
            "\tMSD= 0.0211547159, RRdot= -0.0252548431\n",
            "World 0, NU 10:\n",
            "Topology pitch -0.4455290511\n",
            "Warning: U scale factor for mobod 1 not found.\n",
            "Topology pitch -0.5152630683\n",
            "Topology pitch -0.5152630683\n",
            "Keval terms end bXMX muMmu bmuMX LSE(bmuMX) = 8.6850390534 2.1589771977 5.4182494579\n",
            "ke_n_nma6 3.2667895955\n",
            "\tpe_o -21.08857, pe_n -20.54158, pe_nB -20.54158\n",
            "\tke_prop 8.02710, ke_n 8.68504\n",
            "\tfix_o 102.69979, fix_n 102.68064\n",
            "\tlogSineSqrGamma2_o -1.68359, logSineSqrGamma2_n -1.41545\n",
            "\tts 0.00300\n",
            "\t, etot_n 92.58941, etot_proposed 91.73806\n",
            "\tsample accepted (simple molecular dynamics)\n",
            "\tMSD= 0.0474404407, RRdot= 0.0261591050\n",
            "World 0, NU 10:\n",
            "Topology pitch -0.5152630683\n",
            "Warning: U scale factor for mobod 1 not found.\n",
            "Topology pitch -0.4822579433\n",
            "Topology pitch -0.4822579433\n",
            "Keval terms end bXMX muMmu bmuMX LSE(bmuMX) = 14.4916470649 4.1852421705 10.4400012830\n",
            "ke_n_nma6 4.0516457820\n",
            "\tpe_o -20.54158, pe_n -29.42656, pe_nB -29.42656\n",
            "\tke_prop 12.03912, ke_n 14.49165\n",
            "\tfix_o 102.68064, fix_n 102.61514\n",
            "\tlogSineSqrGamma2_o -1.41545, logSineSqrGamma2_n -1.53669\n",
            "\tts 0.00300\n",
            "\t, etot_n 89.59674, etot_proposed 95.94349\n",
            "\tsample accepted (simple molecular dynamics)\n",
            "\tMSD= 0.0428453367, RRdot= -0.0244765153\n",
            "World 0, NU 10:\n",
            "Topology pitch -0.4822579433\n",
            "Warning: U scale factor for mobod 1 not found.\n",
            "Topology pitch -0.5624395231\n",
            "Topology pitch -0.5624395231\n",
            "Keval terms end bXMX muMmu bmuMX LSE(bmuMX) = 12.2729242736 0.9000026398 2.6264905743\n",
            "ke_n_nma6 9.6464336993\n",
            "\tpe_o -29.42656, pe_n -31.46863, pe_nB -31.46863\n",
            "\tke_prop 10.08018, ke_n 12.27292\n",
            "\tfix_o 102.61514, fix_n 102.61331\n",
            "\tlogSineSqrGamma2_o -1.53669, logSineSqrGamma2_n -1.25752\n",
            "\tts 0.00300\n",
            "\t, etot_n 84.98595, etot_proposed 85.18527\n",
            "\tsample accepted (simple molecular dynamics)\n",
            "\tMSD= 0.0226785966, RRdot= -0.0028404250\n",
            "World 0, NU 10:\n",
            "Topology pitch -0.5624395231\n",
            "Warning: U scale factor for mobod 1 not found.\n",
            "Topology pitch -0.5051130828\n",
            "Topology pitch -0.5051130828\n",
            "Keval terms end bXMX muMmu bmuMX LSE(bmuMX) = 2.9879900662 -8.1401782082 20.3043853482\n",
            "ke_n_nma6 -17.3163952820\n",
            "\tpe_o -31.46863, pe_n -26.86559, pe_nB -26.86559\n",
            "\tke_prop 7.42001, ke_n 2.98799\n",
            "\tfix_o 102.61331, fix_n 102.62647\n",
            "\tlogSineSqrGamma2_o -1.25752, logSineSqrGamma2_n -1.45173\n",
            "\tts 0.00300\n",
            "\t, etot_n 80.55942, etot_proposed 80.13304\n",
            "\tsample accepted (simple molecular dynamics)\n",
            "\tMSD= 0.0117646549, RRdot= -0.0398584170\n",
            "\tTopology written to 'temp//pdbs/final.2but42.0000000010.pdb'\n"
          ]
        }
      ]
    },
    {
      "cell_type": "markdown",
      "source": [
        "Now we need to install Robosample python interface"
      ],
      "metadata": {
        "id": "6Wtf5WpEDnA4"
      }
    },
    {
      "cell_type": "code",
      "source": [
        "# MDTraj is a prerequisite for robosample.py\n",
        "!if pip list | grep mdtraj ; then echo \"MDTraj is installed\"; else pip install mdtraj; fi\n",
        "\n",
        "# Robosample Python interface is in the tools directory\n",
        "%env PYTHONPATH=/env/python:/content/Notebooks/tools\n",
        "!echo $PYTHONPATH\n",
        "\n",
        "%cd /content/Notebooks/"
      ],
      "metadata": {
        "colab": {
          "base_uri": "https://localhost:8080/"
        },
        "id": "gpCTMmJgI7Pq",
        "outputId": "7d19425f-43a4-4aa9-9596-5b5ff842f61e"
      },
      "execution_count": 5,
      "outputs": [
        {
          "output_type": "stream",
          "name": "stdout",
          "text": [
            "Collecting mdtraj\n",
            "  Downloading mdtraj-1.9.7.tar.gz (2.1 MB)\n",
            "\u001b[K     |████████████████████████████████| 2.1 MB 8.9 MB/s \n",
            "\u001b[?25h  Installing build dependencies ... \u001b[?25l\u001b[?25hdone\n",
            "  Getting requirements to build wheel ... \u001b[?25l\u001b[?25hdone\n",
            "    Preparing wheel metadata ... \u001b[?25l\u001b[?25hdone\n",
            "Requirement already satisfied: scipy in /usr/local/lib/python3.7/dist-packages (from mdtraj) (1.4.1)\n",
            "Requirement already satisfied: astunparse in /usr/local/lib/python3.7/dist-packages (from mdtraj) (1.6.3)\n",
            "Requirement already satisfied: numpy>=1.6 in /usr/local/lib/python3.7/dist-packages (from mdtraj) (1.21.5)\n",
            "Requirement already satisfied: pyparsing in /usr/local/lib/python3.7/dist-packages (from mdtraj) (3.0.7)\n",
            "Requirement already satisfied: six<2.0,>=1.6.1 in /usr/local/lib/python3.7/dist-packages (from astunparse->mdtraj) (1.15.0)\n",
            "Requirement already satisfied: wheel<1.0,>=0.23.0 in /usr/local/lib/python3.7/dist-packages (from astunparse->mdtraj) (0.37.1)\n",
            "Building wheels for collected packages: mdtraj\n",
            "  Building wheel for mdtraj (PEP 517) ... \u001b[?25l\u001b[?25hdone\n",
            "  Created wheel for mdtraj: filename=mdtraj-1.9.7-cp37-cp37m-linux_x86_64.whl size=5533639 sha256=1f4eb75cd0f2f9a458fc19a193ad5e6fb6f6bc134dc995697add60827f6a91e9\n",
            "  Stored in directory: /root/.cache/pip/wheels/6f/84/9d/6854e5264a4423209de26a6e4b34d13750289c72ba0439bbfd\n",
            "Successfully built mdtraj\n",
            "Installing collected packages: mdtraj\n",
            "Successfully installed mdtraj-1.9.7\n",
            "env: PYTHONPATH=/env/python:/content/Notebooks/tools\n",
            "/env/python:/content/Notebooks/tools\n",
            "/content/Notebooks\n"
          ]
        }
      ]
    },
    {
      "cell_type": "markdown",
      "source": [
        "If everything went OK we should be able to set up a simple example with the Python"
      ],
      "metadata": {
        "id": "8drls2nJMmDp"
      }
    },
    {
      "cell_type": "code",
      "source": [
        "!ls"
      ],
      "metadata": {
        "colab": {
          "base_uri": "https://localhost:8080/"
        },
        "id": "PQSCwxMsZq4A",
        "outputId": "0615d362-7998-4dd8-93a6-0e36c04beead"
      },
      "execution_count": 6,
      "outputs": [
        {
          "output_type": "stream",
          "name": "stdout",
          "text": [
            "ala10  ethane.s.png  protein.s.png  robosample.ipynb  test.ipynb\n",
            "build  mproc\t     README.md\t    simulate.py       tools\n"
          ]
        }
      ]
    },
    {
      "cell_type": "code",
      "source": [
        "# Run a test script\n",
        "! if [ -d temp ]; then echo \"temp directory exists\"; else mkdir -p temp/pdbs; fi\n",
        "!ls\n",
        "!python simulate.py"
      ],
      "metadata": {
        "id": "g5GlfWjCO8Ki"
      },
      "execution_count": null,
      "outputs": []
    },
    {
      "cell_type": "code",
      "source": [
        "!ls temp/pdbs"
      ],
      "metadata": {
        "colab": {
          "base_uri": "https://localhost:8080/"
        },
        "id": "hbLXx8tYcWrB",
        "outputId": "60ce399c-2b6e-44c4-ef57-90d022f7119e"
      },
      "execution_count": 8,
      "outputs": [
        {
          "output_type": "stream",
          "name": "stdout",
          "text": [
            "final.bot01.0000000005.pdb    sb.bot01.0.s0.0000000003.pdb\n",
            "sb.bot01.0.s0.0000000000.pdb\n"
          ]
        }
      ]
    },
    {
      "cell_type": "markdown",
      "source": [
        "# Part 1 - Prepare a Robosample Script\n",
        "\n",
        "---"
      ],
      "metadata": {
        "id": "xnfsX6QgMXbc"
      }
    },
    {
      "cell_type": "markdown",
      "source": [
        "<h1>Why use a script?<!h1>\n",
        "\n",
        "Molecular dynamics simulations require a lot of information about\n",
        "* Input data\n",
        "  * coordinates\n",
        "  * topology\n",
        "  * which atoms are included in energy terms\n",
        "  * parameters for functions in energy terms\n",
        "* System description\n",
        "  * periodicity\n",
        "  * constraints\n",
        "* Integrators\n",
        "  * algorithms to propagate forward in time\n",
        "  * adjust box size\n",
        "  * adjust kinetic energy (temperature)\n",
        "* Simulation\n",
        "  * how long to run\n",
        "  * how much output data to store\n",
        "\n",
        "  Let's go through what the parameters mean and I'll give you values for a simple simulation of MPro C-terminal part.\n",
        "\n"
      ],
      "metadata": {
        "id": "VXSaz8LV7w76"
      }
    },
    {
      "cell_type": "markdown",
      "source": [
        "![picture](\"https://cdn.rcsb.org/images/structures/li/2liz/2liz_models.jpeg\")"
      ],
      "metadata": {
        "id": "2-sMlFh99Pg2"
      }
    },
    {
      "cell_type": "code",
      "source": [
        "# Get molecule\n",
        "!ls mproc/"
      ],
      "metadata": {
        "colab": {
          "base_uri": "https://localhost:8080/"
        },
        "id": "8MF_B6PrjyOj",
        "outputId": "b50696bd-95a5-4454-b500-ad4cb2e14099"
      },
      "execution_count": 60,
      "outputs": [
        {
          "output_type": "stream",
          "name": "stdout",
          "text": [
            "2liz.pdb  ligand.min.rst7  ligand.prmtop\n"
          ]
        }
      ]
    },
    {
      "cell_type": "markdown",
      "source": [
        "<h1>Import necessary modules</h1>\n",
        "First we need to import the module that contains the Robosample interface, robosample.py. Also import here oher modules that we may need."
      ],
      "metadata": {
        "id": "L0pwubBEd2BJ"
      }
    },
    {
      "cell_type": "code",
      "source": [
        "import sys\n",
        "sys.path.append(\"/content/Notebooks/tools/\")"
      ],
      "metadata": {
        "id": "A8Jei3VU6oP_"
      },
      "execution_count": null,
      "outputs": []
    },
    {
      "cell_type": "code",
      "source": [
        "#!touch /content/__init__.py\n",
        "#!touch /content/Notebooks/__init__.py\n",
        "#!touch /content/Notebooks/tools/__init__.py\n",
        "\n",
        "# Imports\n",
        "import os\n",
        "from robosample import *\n"
      ],
      "metadata": {
        "id": "3HlqQNdOilyb"
      },
      "execution_count": 28,
      "outputs": []
    },
    {
      "cell_type": "markdown",
      "source": [
        "<h1>Load molecular structure files</h1>\n"
      ],
      "metadata": {
        "id": "twmeW8q53dDG"
      }
    },
    {
      "cell_type": "code",
      "source": [
        "# Load Amber files\n",
        "prmtop = AmberPrmtopFile(\"mproc/ligand.prmtop\")\n",
        "inpcrd = AmberInpcrdFile(\"mproc/ligand.min.rst7\")\n",
        "\n",
        "# Hardware platform\n",
        "platform = Platform.getPlatformByName('GPU')\n",
        "properties={'nofThreads': 0}\n"
      ],
      "metadata": {
        "colab": {
          "base_uri": "https://localhost:8080/"
        },
        "id": "tuwlGfRg4uK9",
        "outputId": "25dd11fc-9170-47f5-9195-0c868c19adc9"
      },
      "execution_count": 33,
      "outputs": [
        {
          "output_type": "stream",
          "name": "stdout",
          "text": [
            "GPU\n"
          ]
        }
      ]
    },
    {
      "cell_type": "markdown",
      "source": [
        "<h1>Create System <!>"
      ],
      "metadata": {
        "id": "3Jk8lObY44k-"
      }
    },
    {
      "cell_type": "code",
      "source": [
        "# Remove any existing robots directory\n",
        "if os.path.exists(\"robots\"):\n",
        "  shutil.rmtree(\"robots\")\n",
        "\n",
        "# Create a Robosample system by calling createSystem on prmtop\n",
        "system = prmtop.createSystem(createDirs = True,\n",
        "\tnonbondedMethod = \"CutoffPeriodic\",\n",
        " \tnonbondedCutoff = 1.44*nanometer,\n",
        " \tconstraints = None,\n",
        " \trigidWater = True,\n",
        " \timplicitSolvent = True,\n",
        " \tsoluteDielectric = 1.0,\n",
        " \tsolventDielectric = 78.5,\n",
        " \tremoveCMMotion = False\n",
        ")\n"
      ],
      "metadata": {
        "id": "illFDQnb5cre"
      },
      "execution_count": 34,
      "outputs": []
    },
    {
      "cell_type": "markdown",
      "source": [
        "<h1> Choose an Integrator <!h1>"
      ],
      "metadata": {
        "id": "XBvM786I5tFH"
      }
    },
    {
      "cell_type": "code",
      "source": [
        "# Choose an integrator\n",
        "integrator = HMCIntegrator(300*kelvin,   # Temperature of head bath\n",
        "                           0.001*picoseconds) # Time step"
      ],
      "metadata": {
        "id": "VxOAAoRA53sf"
      },
      "execution_count": 35,
      "outputs": []
    },
    {
      "cell_type": "markdown",
      "source": [
        "<h1>Wrap everything in a Simulation Object</h1>"
      ],
      "metadata": {
        "id": "yvE-GqTj6IG4"
      }
    },
    {
      "cell_type": "code",
      "source": [
        "# Create Simulation object\n",
        "simulation = Simulation(prmtop.topology, system, integrator, platform, properties)\n",
        "simulation.reporters.append(PDBReporter('temp', 3))\n",
        "simulation.context.setPositions(inpcrd.positions)"
      ],
      "metadata": {
        "colab": {
          "base_uri": "https://localhost:8080/"
        },
        "id": "E_YAOq8856oA",
        "outputId": "1da2c9b2-3567-468d-99d2-2c95f5afcd18"
      },
      "execution_count": 36,
      "outputs": [
        {
          "output_type": "stream",
          "name": "stdout",
          "text": [
            "Starting Simulation init\n",
            "Robosample directory set to /content/Notebooks\n",
            "Robosample executable set to /content/Notebooks/build/release/robosample/src/GMOLMODEL_robo\n",
            "DEBUG ['bot.prmtop']\n",
            "Done Simulation init\n",
            "robots/bot0/bot.rst7 ['robots/bot0/bot.prmtop']\n",
            "Calculating distance matrix...\n",
            "Calculating dssp...\n",
            "coils [[  0  13]\n",
            " [ 28  40]\n",
            " [ 50  57]\n",
            " [ 71  74]\n",
            " [ 88 108]\n",
            " [111 120]]\n",
            "flatClusts [1 7 4 4 7 1 1 4 7 5 2 1 3 5 1 3 7 6 2 4 2 3 4 1 7 6 6 7 7 5 7 4 4 1 4 6 4\n",
            " 7 1 4 1 7 2 1 6 7 2 2 7 5 1 2 7 7 7 2 7 7 4 2 1 7 7 4 2 1 3 2 2 2 7 4 3 5\n",
            " 1 7 6 2 6 7 7 4 7 4 1 7 1 2 3 4 4 6 1 2 7 6 1 3 3 2 2 6 4 3 4 6 7 4 1 4 7\n",
            " 1 7 3 2 5 4 1 2 7 6 7 2 3 2 5 2 6 2 2 1 6 3 1 2 1 4 2 2 1 4 4 5 7 1 4 6 3\n",
            " 4 1 2 7 6 1 6 5 7 3 2 3 3 7 5 2 2 2 2 3 2 4 1 3 4 4 3 2 2 2 3 1 3 1 4 2 2\n",
            " 7 7 7 2 7 6 2 2 3 6 1 2 4 4 4 3 6 1 2 2 5 7 1 4 1 6 3 3 1 7 1 3 7 1 4 1 4\n",
            " 4 2 1 4 7 6 7 2 1 6 4 4 4 5 7 7 7 7]\n",
            "0 [4, 12, 'CA', 0, 'C', 0, array([ 1.0200005,  0.1549997, -1.150999 ])] [4, 12, 'CA', 0, 'C', 0, array([ 1.0200005,  0.1549997, -1.150999 ])]\n",
            "5 [38, 40, 'N', 2, 'CA', 2, array([-0.4510002, -0.7189998, -1.2069988])] [38, 40, 'N', 2, 'CA', 2, array([-0.4510002, -0.7189998, -1.2069988])]\n",
            "6 [57, 67, 'CA', 3, 'C', 3, array([1.336    , 0.7650003, 0.0860004])] [57, 67, 'CA', 3, 'C', 3, array([1.336    , 0.7650003, 0.0860004])]\n",
            "11 [79, 81, 'N', 5, 'CA', 5, array([ 0.681    ,  0.2849999, -1.2810002])] [79, 81, 'N', 5, 'CA', 5, array([ 0.681    ,  0.2849999, -1.2810002])]\n",
            "14 [108, 114, 'CA', 7, 'C', 7, array([1.4090002, 0.0979996, 0.6339998])] [108, 114, 'CA', 7, 'C', 7, array([1.4090002, 0.0979996, 0.6339998])]\n",
            "23 [149, 151, 'N', 11, 'CA', 11, array([ 0.628    , -0.8629999, -1.0160001])] [149, 151, 'N', 11, 'CA', 11, array([ 0.628    , -0.8629999, -1.0160001])]\n",
            "33 [229, 231, 'N', 16, 'CA', 16, array([ 0.954, -0.349,  1.052])] [229, 231, 'N', 16, 'CA', 16, array([ 0.954, -0.349,  1.052])]\n",
            "38 [280, 286, 'CA', 19, 'C', 19, array([1.143999 , 0.324    , 0.9890001])] [280, 286, 'CA', 19, 'C', 19, array([1.143999 , 0.324    , 0.9890001])]\n",
            "40 [290, 310, 'CA', 20, 'C', 20, array([ 1.1809998,  0.736    , -0.643    ])] [290, 310, 'CA', 20, 'C', 20, array([ 1.1809998,  0.736    , -0.643    ])]\n",
            "43 [312, 314, 'N', 21, 'CA', 21, array([ 1.032999 ,  0.6900001, -0.769    ])] [312, 314, 'N', 21, 'CA', 21, array([ 1.032999 ,  0.6900001, -0.769    ])]\n",
            "50 [374, 386, 'CA', 25, 'C', 25, array([ 0.8619995, -1.249    ,  0.1640001])] [374, 386, 'CA', 25, 'C', 25, array([ 0.8619995, -1.249    ,  0.1640001])]\n",
            "60 [442, 462, 'CA', 30, 'C', 30, array([ 0.2290001,  1.4060002, -0.5929999])] [442, 462, 'CA', 30, 'C', 30, array([ 0.2290001,  1.4060002, -0.5929999])]\n",
            "65 [488, 490, 'N', 32, 'CA', 32, array([-1.3310013,  0.4089994, -0.4920001])] [488, 490, 'N', 32, 'CA', 32, array([-1.3310013,  0.4089994, -0.4920001])]\n",
            "74 [587, 597, 'CA', 37, 'C', 37, array([-1.2030001,  0.9049997,  0.3449994])] [587, 597, 'CA', 37, 'C', 37, array([-1.2030001,  0.9049997,  0.3449994])]\n",
            "84 [662, 670, 'CA', 42, 'C', 42, array([ 0.6219998, -0.3630008,  1.3550005])] [662, 670, 'CA', 42, 'C', 42, array([ 0.6219998, -0.3630008,  1.3550005])]\n",
            "86 [674, 690, 'CA', 43, 'C', 43, array([-1.1500001, -0.0770006,  1.0190001])] [674, 690, 'CA', 43, 'C', 43, array([-1.1500001, -0.0770006,  1.0190001])]\n",
            "92 [727, 739, 'CA', 46, 'C', 46, array([-0.1599999, -0.7560006,  1.3249998])] [727, 739, 'CA', 46, 'C', 46, array([-0.1599999, -0.7560006,  1.3249998])]\n",
            "96 [753, 766, 'CA', 48, 'C', 48, array([0.1790001, 1.4609994, 0.4650001])] [753, 766, 'CA', 48, 'C', 48, array([0.1790001, 1.4609994, 0.4650001])]\n",
            "108 [871, 873, 'CA', 54, 'C', 54, array([ 0.4379999, -1.4709997, -0.1620002])] [871, 873, 'CA', 54, 'C', 54, array([ 0.4379999, -1.4709997, -0.1620002])]\n",
            "111 [875, 877, 'N', 55, 'CA', 55, array([ 0.59     , -1.296    , -0.3459997])] [875, 877, 'N', 55, 'CA', 55, array([ 0.59     , -1.296    , -0.3459997])]\n",
            "117 [925, 927, 'N', 58, 'CA', 58, array([-0.0040001, -1.1090002,  0.9679994])] [925, 927, 'N', 58, 'CA', 58, array([-0.0040001, -1.1090002,  0.9679994])]\n",
            "130 [1037, 1039, 'CA', 65, 'C', 65, array([0.9980001, 0.9120002, 0.7329998])] [1037, 1039, 'CA', 65, 'C', 65, array([0.9980001, 0.9120002, 0.7329998])]\n",
            "133 [1041, 1043, 'N', 66, 'CA', 66, array([0.9110003, 1.       , 0.5830001])] [1041, 1043, 'N', 66, 'CA', 66, array([0.9110003, 1.       , 0.5830001])]\n",
            "135 [1060, 1062, 'N', 67, 'CA', 67, array([ 0.6110001,  0.592    , -1.2030001])] [1060, 1062, 'N', 67, 'CA', 67, array([ 0.6110001,  0.592    , -1.2030001])]\n",
            "139 [1081, 1083, 'N', 69, 'CA', 69, array([ 1.1159992, -0.0549998,  0.9589996])] [1081, 1083, 'N', 69, 'CA', 69, array([ 1.1159992, -0.0549998,  0.9589996])]\n",
            "144 [1121, 1136, 'CA', 72, 'C', 72, array([-1.4229984, -0.383    , -0.3989992])] [1121, 1136, 'CA', 72, 'C', 72, array([-1.4229984, -0.383    , -0.3989992])]\n",
            "149 [1148, 1150, 'N', 74, 'CA', 74, array([-0.9900008,  0.488    ,  0.9899997])] [1148, 1150, 'N', 74, 'CA', 74, array([-0.9900008,  0.488    ,  0.9899997])]\n",
            "153 [1183, 1185, 'N', 76, 'CA', 76, array([1.0970001, 0.7860003, 0.5790005])] [1183, 1185, 'N', 76, 'CA', 76, array([1.0970001, 0.7860003, 0.5790005])]\n",
            "170 [1320, 1335, 'CA', 85, 'C', 85, array([ 0.033    ,  1.532999 , -0.1489999])] [1320, 1335, 'CA', 85, 'C', 85, array([ 0.033    ,  1.532999 , -0.1489999])]\n",
            "179 [1375, 1377, 'N', 89, 'CA', 89, array([ 1.2870007, -0.6419992,  0.3450002])] [1375, 1377, 'N', 89, 'CA', 89, array([ 1.2870007, -0.6419992,  0.3450002])]\n",
            "181 [1392, 1394, 'N', 90, 'CA', 90, array([0.1639995, 0.1190005, 1.4609999])] [1392, 1394, 'N', 90, 'CA', 90, array([0.1639995, 0.1190005, 1.4609999])]\n",
            "195 [1496, 1498, 'N', 97, 'CA', 97, array([-0.9720001,  0.9660001,  0.5290003])] [1496, 1498, 'N', 97, 'CA', 97, array([-0.9720001,  0.9660001,  0.5290003])]\n",
            "202 [1561, 1572, 'CA', 101, 'C', 101, array([-0.9470005, -0.5420003, -1.0809999])] [1561, 1572, 'CA', 101, 'C', 101, array([-0.9470005, -0.5420003, -1.0809999])]\n",
            "207 [1586, 1588, 'N', 103, 'CA', 103, array([-0.3169994, -1.153    ,  0.855    ])] [1586, 1588, 'N', 103, 'CA', 103, array([-0.3169994, -1.153    ,  0.855    ])]\n",
            "209 [1601, 1603, 'N', 104, 'CA', 104, array([ 0.7110005, -1.187    , -0.4920001])] [1601, 1603, 'N', 104, 'CA', 104, array([ 0.7110005, -1.187    , -0.4920001])]\n",
            "213 [1635, 1645, 'N', 106, 'CA', 106, array([ 0.6040001, -0.0639997, -1.333    ])] [1635, 1645, 'N', 106, 'CA', 106, array([ 0.6040001, -0.0639997, -1.333    ])]\n",
            "215 [1649, 1651, 'N', 107, 'CA', 107, array([ 0.5130005, -1.2610001, -0.578    ])] [1649, 1651, 'N', 107, 'CA', 107, array([ 0.5130005, -1.2610001, -0.578    ])]\n",
            "218 [1683, 1695, 'CA', 109, 'C', 109, array([ 0.2489987, -0.7730003, -1.3080001])] [1683, 1695, 'CA', 109, 'C', 109, array([ 0.2489987, -0.7730003, -1.3080001])]\n",
            "220 [1699, 1711, 'CA', 110, 'C', 110, array([ 1.0459996, -1.1000004,  0.2449999])] [1699, 1711, 'CA', 110, 'C', 110, array([ 1.0459996, -1.1000004,  0.2449999])]\n",
            "224 [1739, 1752, 'CA', 112, 'C', 112, array([0.8379993, 1.092    , 0.717    ])] [1739, 1752, 'CA', 112, 'C', 112, array([0.8379993, 1.092    , 0.717    ])]\n",
            "230 [1778, 1781, 'CA', 115, 'C', 115, array([ 0.6520004, -0.4790001,  1.3040001])] [1778, 1781, 'CA', 115, 'C', 115, array([ 0.6520004, -0.4790001,  1.3040001])]\n"
          ]
        }
      ]
    },
    {
      "cell_type": "markdown",
      "source": [
        "<h1> Add Worlds </h1>"
      ],
      "metadata": {
        "id": "U-6vfL-06MIa"
      }
    },
    {
      "cell_type": "code",
      "source": [
        "## Generate NMA-Scaled Flex Files\n",
        "sAll = [[1, 120]]\n",
        "\n",
        "simulation.addWorld(regionType='stretch',\n",
        "                    region=sAll,\n",
        "                    rootMobility='Weld',\n",
        "                    timestep=0.004,\n",
        "                    mdsteps=5,\n",
        "                    argJointType='Pin',\n",
        "                    subsets=['rama','side'],\n",
        "                    samples=1)\n"
      ],
      "metadata": {
        "colab": {
          "base_uri": "https://localhost:8080/"
        },
        "id": "1GFSwhaJ6T_G",
        "outputId": "6c4281ad-2b36-448b-ddbb-88d06b1bc8ba"
      },
      "execution_count": 37,
      "outputs": [
        {
          "output_type": "stream",
          "name": "stdout",
          "text": [
            "Starting Simulation addWorld\n",
            "region [[  1 120]]\n",
            "flatRegion [  1   2   3   4   5   6   7   8   9  10  11  12  13  14  15  16  17  18\n",
            "  19  20  21  22  23  24  25  26  27  28  29  30  31  32  33  34  35  36\n",
            "  37  38  39  40  41  42  43  44  45  46  47  48  49  50  51  52  53  54\n",
            "  55  56  57  58  59  60  61  62  63  64  65  66  67  68  69  70  71  72\n",
            "  73  74  75  76  77  78  79  80  81  82  83  84  85  86  87  88  89  90\n",
            "  91  92  93  94  95  96  97  98  99 100 101 102 103 104 105 106 107 108\n",
            " 109 110 111 112 113 114 115 116 117 118 119 120]\n",
            "Wrote to bot.stretch.2.flex\n",
            "Done Simulation addWorld\n"
          ]
        }
      ]
    },
    {
      "cell_type": "markdown",
      "source": [
        "<h1>Run the simulation </h1>"
      ],
      "metadata": {
        "id": "n9W0mhXt6WgH"
      }
    },
    {
      "cell_type": "code",
      "source": [
        "\n",
        "# Run simulation\n",
        "simulation.step(5)\n",
        "\n"
      ],
      "metadata": {
        "colab": {
          "base_uri": "https://localhost:8080/"
        },
        "id": "JzhYcKnDJXYh",
        "outputId": "a33753a6-c823-4c61-d5c8-1cd5d4490ea3"
      },
      "execution_count": 38,
      "outputs": [
        {
          "output_type": "stream",
          "name": "stdout",
          "text": [
            "Starting Simulation step\n",
            "Done Simulation step\n"
          ]
        }
      ]
    },
    {
      "cell_type": "code",
      "source": [
        "!ls temp/pdbs/"
      ],
      "metadata": {
        "colab": {
          "base_uri": "https://localhost:8080/"
        },
        "id": "-VrpTB-31zak",
        "outputId": "4261617e-00fa-41d5-b3ac-db48e8ae0a27"
      },
      "execution_count": 32,
      "outputs": [
        {
          "output_type": "stream",
          "name": "stdout",
          "text": [
            "final.bot01.0000000005.pdb    sb.bot01.0.s0.0000000003.pdb\n",
            "sb.bot01.0.s0.0000000000.pdb\n"
          ]
        }
      ]
    },
    {
      "cell_type": "markdown",
      "source": [
        "**QUESTION** "
      ],
      "metadata": {
        "id": "ml334S_e6C-Q"
      }
    }
  ]
}